{
 "cells": [
  {
   "cell_type": "markdown",
   "metadata": {},
   "source": [
    "# Assessment Machine Learning and Statistics"
   ]
  },
  {
   "cell_type": "markdown",
   "metadata": {},
   "source": [
    "# Boston House Prices Dataset "
   ]
  },
  {
   "cell_type": "markdown",
   "metadata": {},
   "source": [
    "## Attribute Information (in order):\n",
    "|Column|Description  |\n",
    "|---|---|\n",
    "|CRIM     |per capita crime rate by town|\n",
    "|ZN       |proportion of residential land zoned for lots over 25,000 sq.ft.|\n",
    "|INDUS    |proportion of non-retail business acres per town|\n",
    "|CHAS     |Charles River dummy variable (= 1 if tract bounds river; 0 otherwise)|\n",
    "|NOX      |nitric oxides concentration (parts per 10 million)|\n",
    "|RM       |average number of rooms per dwelling|\n",
    "|AGE      |proportion of owner-occupied units built prior to 1940|\n",
    "|DIS      |weighted distances to five Boston employment centres|\n",
    "|RAD      |index of accessibility to radial highways|\n",
    "|TAX      |full-value property-tax rate per \\$10,000|\n",
    "|PTRATIO  |pupil-teacher ratio by town|\n",
    "|B        |1000(Bk - 0.63)^2 where Bk is the proportion of blacks by town|\n",
    "|LSTAT    |\\% lower status of the population|\n",
    "|MEDV     |Median value of owner-occupied homes in $1000's|\n"
   ]
  },
  {
   "cell_type": "markdown",
   "metadata": {},
   "source": [
    "### <center>Table 1</center>"
   ]
  },
  {
   "cell_type": "markdown",
   "metadata": {},
   "source": [
    "Some clarification on some columns that was not initially obvious from the descriptions. \n",
    "\n",
    "  - LSTAT - Percentage of working class people in the area\n",
    "  - MEDV - The actual prices of the properties\n",
    "\n",
    "The next step is to get some idea as to the relationships of the various datapoints in the set. This is achieved by the scatter_matrix function by creating a matrix of plots of all the datapoints against one another and get a visual indication of their relationships."
   ]
  },
  {
   "cell_type": "markdown",
   "metadata": {},
   "source": [
    "## Descriptive Statistics"
   ]
  },
  {
   "cell_type": "markdown",
   "metadata": {},
   "source": [
    "In order to run and asses the dataset with basic descriptive statistics we will proceed to load all the required libraries, including Pandas, Matplotlib Pyplot and Seaborn.\n",
    "\n",
    "A copy of the Boston house price dataset in locate in a local folder data and is loaded using the pandas read_csv function. The first row is skipped as it contains meta data for the dataset. "
   ]
  },
  {
   "cell_type": "code",
   "execution_count": 1,
   "metadata": {},
   "outputs": [],
   "source": [
    "import warnings\n",
    "warnings.simplefilter(action='ignore', category=FutureWarning) # imported to suppress future deprecated warnings\n",
    "import pandas as pd\n",
    "import matplotlib.pyplot as pl\n",
    "import seaborn as sns\n",
    "import numpy as np\n",
    "#import style\n",
    "\n",
    "df=pd.read_csv('data\\\\boston_house_prices.csv',skiprows=1)"
   ]
  },
  {
   "cell_type": "markdown",
   "metadata": {},
   "source": [
    "The next step is running all the basic descriptive statistics on all the data columns available in the dataset. At this stage it is unclear what the columns mean and some research is required to determine what it means and discussed in the sections below."
   ]
  },
  {
   "cell_type": "code",
   "execution_count": 2,
   "metadata": {
    "scrolled": true
   },
   "outputs": [
    {
     "data": {
      "text/html": [
       "<div>\n",
       "<style scoped>\n",
       "    .dataframe tbody tr th:only-of-type {\n",
       "        vertical-align: middle;\n",
       "    }\n",
       "\n",
       "    .dataframe tbody tr th {\n",
       "        vertical-align: top;\n",
       "    }\n",
       "\n",
       "    .dataframe thead th {\n",
       "        text-align: right;\n",
       "    }\n",
       "</style>\n",
       "<table border=\"1\" class=\"dataframe\">\n",
       "  <thead>\n",
       "    <tr style=\"text-align: right;\">\n",
       "      <th></th>\n",
       "      <th>CRIM</th>\n",
       "      <th>ZN</th>\n",
       "      <th>INDUS</th>\n",
       "      <th>CHAS</th>\n",
       "      <th>NOX</th>\n",
       "      <th>RM</th>\n",
       "      <th>AGE</th>\n",
       "      <th>DIS</th>\n",
       "      <th>RAD</th>\n",
       "      <th>TAX</th>\n",
       "      <th>PTRATIO</th>\n",
       "      <th>B</th>\n",
       "      <th>LSTAT</th>\n",
       "      <th>MEDV</th>\n",
       "    </tr>\n",
       "  </thead>\n",
       "  <tbody>\n",
       "    <tr>\n",
       "      <th>count</th>\n",
       "      <td>506.000</td>\n",
       "      <td>506.000</td>\n",
       "      <td>506.000</td>\n",
       "      <td>506.000</td>\n",
       "      <td>506.000</td>\n",
       "      <td>506.000</td>\n",
       "      <td>506.000</td>\n",
       "      <td>506.000</td>\n",
       "      <td>506.000</td>\n",
       "      <td>506.000</td>\n",
       "      <td>506.000</td>\n",
       "      <td>506.000</td>\n",
       "      <td>506.000</td>\n",
       "      <td>506.000</td>\n",
       "    </tr>\n",
       "    <tr>\n",
       "      <th>mean</th>\n",
       "      <td>3.614</td>\n",
       "      <td>11.364</td>\n",
       "      <td>11.137</td>\n",
       "      <td>0.069</td>\n",
       "      <td>0.555</td>\n",
       "      <td>6.285</td>\n",
       "      <td>68.575</td>\n",
       "      <td>3.795</td>\n",
       "      <td>9.549</td>\n",
       "      <td>408.237</td>\n",
       "      <td>18.456</td>\n",
       "      <td>356.674</td>\n",
       "      <td>12.653</td>\n",
       "      <td>22.533</td>\n",
       "    </tr>\n",
       "    <tr>\n",
       "      <th>std</th>\n",
       "      <td>8.602</td>\n",
       "      <td>23.322</td>\n",
       "      <td>6.860</td>\n",
       "      <td>0.254</td>\n",
       "      <td>0.116</td>\n",
       "      <td>0.703</td>\n",
       "      <td>28.149</td>\n",
       "      <td>2.106</td>\n",
       "      <td>8.707</td>\n",
       "      <td>168.537</td>\n",
       "      <td>2.165</td>\n",
       "      <td>91.295</td>\n",
       "      <td>7.141</td>\n",
       "      <td>9.197</td>\n",
       "    </tr>\n",
       "    <tr>\n",
       "      <th>min</th>\n",
       "      <td>0.006</td>\n",
       "      <td>0.000</td>\n",
       "      <td>0.460</td>\n",
       "      <td>0.000</td>\n",
       "      <td>0.385</td>\n",
       "      <td>3.561</td>\n",
       "      <td>2.900</td>\n",
       "      <td>1.130</td>\n",
       "      <td>1.000</td>\n",
       "      <td>187.000</td>\n",
       "      <td>12.600</td>\n",
       "      <td>0.320</td>\n",
       "      <td>1.730</td>\n",
       "      <td>5.000</td>\n",
       "    </tr>\n",
       "    <tr>\n",
       "      <th>25%</th>\n",
       "      <td>0.082</td>\n",
       "      <td>0.000</td>\n",
       "      <td>5.190</td>\n",
       "      <td>0.000</td>\n",
       "      <td>0.449</td>\n",
       "      <td>5.886</td>\n",
       "      <td>45.025</td>\n",
       "      <td>2.100</td>\n",
       "      <td>4.000</td>\n",
       "      <td>279.000</td>\n",
       "      <td>17.400</td>\n",
       "      <td>375.378</td>\n",
       "      <td>6.950</td>\n",
       "      <td>17.025</td>\n",
       "    </tr>\n",
       "    <tr>\n",
       "      <th>50%</th>\n",
       "      <td>0.257</td>\n",
       "      <td>0.000</td>\n",
       "      <td>9.690</td>\n",
       "      <td>0.000</td>\n",
       "      <td>0.538</td>\n",
       "      <td>6.208</td>\n",
       "      <td>77.500</td>\n",
       "      <td>3.207</td>\n",
       "      <td>5.000</td>\n",
       "      <td>330.000</td>\n",
       "      <td>19.050</td>\n",
       "      <td>391.440</td>\n",
       "      <td>11.360</td>\n",
       "      <td>21.200</td>\n",
       "    </tr>\n",
       "    <tr>\n",
       "      <th>75%</th>\n",
       "      <td>3.677</td>\n",
       "      <td>12.500</td>\n",
       "      <td>18.100</td>\n",
       "      <td>0.000</td>\n",
       "      <td>0.624</td>\n",
       "      <td>6.624</td>\n",
       "      <td>94.075</td>\n",
       "      <td>5.188</td>\n",
       "      <td>24.000</td>\n",
       "      <td>666.000</td>\n",
       "      <td>20.200</td>\n",
       "      <td>396.225</td>\n",
       "      <td>16.955</td>\n",
       "      <td>25.000</td>\n",
       "    </tr>\n",
       "    <tr>\n",
       "      <th>max</th>\n",
       "      <td>88.976</td>\n",
       "      <td>100.000</td>\n",
       "      <td>27.740</td>\n",
       "      <td>1.000</td>\n",
       "      <td>0.871</td>\n",
       "      <td>8.780</td>\n",
       "      <td>100.000</td>\n",
       "      <td>12.126</td>\n",
       "      <td>24.000</td>\n",
       "      <td>711.000</td>\n",
       "      <td>22.000</td>\n",
       "      <td>396.900</td>\n",
       "      <td>37.970</td>\n",
       "      <td>50.000</td>\n",
       "    </tr>\n",
       "  </tbody>\n",
       "</table>\n",
       "</div>"
      ],
      "text/plain": [
       "          CRIM       ZN    INDUS     CHAS      NOX       RM      AGE      DIS  \\\n",
       "count  506.000  506.000  506.000  506.000  506.000  506.000  506.000  506.000   \n",
       "mean     3.614   11.364   11.137    0.069    0.555    6.285   68.575    3.795   \n",
       "std      8.602   23.322    6.860    0.254    0.116    0.703   28.149    2.106   \n",
       "min      0.006    0.000    0.460    0.000    0.385    3.561    2.900    1.130   \n",
       "25%      0.082    0.000    5.190    0.000    0.449    5.886   45.025    2.100   \n",
       "50%      0.257    0.000    9.690    0.000    0.538    6.208   77.500    3.207   \n",
       "75%      3.677   12.500   18.100    0.000    0.624    6.624   94.075    5.188   \n",
       "max     88.976  100.000   27.740    1.000    0.871    8.780  100.000   12.126   \n",
       "\n",
       "           RAD      TAX  PTRATIO        B    LSTAT     MEDV  \n",
       "count  506.000  506.000  506.000  506.000  506.000  506.000  \n",
       "mean     9.549  408.237   18.456  356.674   12.653   22.533  \n",
       "std      8.707  168.537    2.165   91.295    7.141    9.197  \n",
       "min      1.000  187.000   12.600    0.320    1.730    5.000  \n",
       "25%      4.000  279.000   17.400  375.378    6.950   17.025  \n",
       "50%      5.000  330.000   19.050  391.440   11.360   21.200  \n",
       "75%     24.000  666.000   20.200  396.225   16.955   25.000  \n",
       "max     24.000  711.000   22.000  396.900   37.970   50.000  "
      ]
     },
     "execution_count": 2,
     "metadata": {},
     "output_type": "execute_result"
    }
   ],
   "source": [
    "#pl.ioff()\n",
    "np.round(df.describe(),3)"
   ]
  },
  {
   "cell_type": "markdown",
   "metadata": {},
   "source": [
    "### <center>Table 2</center>"
   ]
  },
  {
   "cell_type": "markdown",
   "metadata": {},
   "source": [
    "Looking at the raw descriptive statistics, after reading up on the various meanings of all the columns in itself does not really disclose that much. \n",
    "\n",
    "Visualisation tools however shows a much more visually descriptive picture of the dataset."
   ]
  },
  {
   "cell_type": "code",
   "execution_count": 3,
   "metadata": {},
   "outputs": [
    {
     "data": {
      "image/png": "[encoded data removed]",
      "text/plain": [
       "<Figure size 1080x288 with 1 Axes>"
      ]
     },
     "metadata": {
      "needs_background": "light"
     },
     "output_type": "display_data"
    }
   ],
   "source": [
    "df.boxplot(figsize=(15,4))\n",
    "pl.ion()"
   ]
  },
  {
   "cell_type": "markdown",
   "metadata": {},
   "source": [
    "### <center>Figure 1</center>"
   ]
  },
  {
   "cell_type": "markdown",
   "metadata": {},
   "source": [
    "The different scaling of the dataset variables makes it difficult to compare and contrast correlations between various data point, so we can get a better comparative view by normalising all the values to the same range."
   ]
  },
  {
   "cell_type": "code",
   "execution_count": 4,
   "metadata": {},
   "outputs": [
    {
     "data": {
      "text/plain": [
       "<matplotlib.axes._subplots.AxesSubplot at 0x28ec2298d30>"
      ]
     },
     "execution_count": 4,
     "metadata": {},
     "output_type": "execute_result"
    },
    {
     "data": {
      "image/png": "[encoded data removed]",
      "text/plain": [
       "<Figure size 1080x288 with 1 Axes>"
      ]
     },
     "metadata": {
      "needs_background": "light"
     },
     "output_type": "display_data"
    }
   ],
   "source": [
    "# import the pre processing library to normalise all the data values across the data set\n",
    "from sklearn import preprocessing as pp\n",
    "# set the minimum and maximum values to defaults of 0,1\n",
    "minmax=pp.MinMaxScaler()\n",
    "# dump the dataframe values to x\n",
    "x=df.values\n",
    "# transform the dumped values and return to variable scaled\n",
    "scaled=minmax.fit_transform(x)\n",
    "# convert back to  dataframe\n",
    "df2=pd.DataFrame(scaled)\n",
    "# export the heading to a list \n",
    "headings=list(df.columns.values)\n",
    "# and add the heading back to the new normalised dataframe\n",
    "df2.columns=headings\n",
    "# and finally create another boxplot\n",
    "df2.boxplot(figsize=(15,4))"
   ]
  },
  {
   "cell_type": "markdown",
   "metadata": {},
   "source": [
    "### <center>Figure 2</center>"
   ]
  },
  {
   "cell_type": "markdown",
   "metadata": {},
   "source": [
    "Some reading show that this dataset is included in the sklearn library and insight into the dataset can be gained with the DESCR query into the dataset."
   ]
  },
  {
   "cell_type": "markdown",
   "metadata": {},
   "source": [
    "The table below shows a summary of the columns meaning extracted from the documentation on the dataset."
   ]
  },
  {
   "cell_type": "code",
   "execution_count": 5,
   "metadata": {},
   "outputs": [],
   "source": [
    "from pandas.plotting import scatter_matrix as sm\n",
    "#%matplotlib inline\n",
    "#sm(df, figsize=(18,9), diagonal='kde')\n"
   ]
  },
  {
   "cell_type": "markdown",
   "metadata": {},
   "source": [
    "Analysing the scatter matrix of plots show some visually obvious relationships between various data points. The red lines show upward/positive trends and the yellow lines negative/downward trends."
   ]
  },
  {
   "cell_type": "markdown",
   "metadata": {},
   "source": [
    "![title](img/Boston_ScatterMatrix_Crop.jpg)"
   ]
  },
  {
   "cell_type": "markdown",
   "metadata": {},
   "source": [
    "### <center>Figure 3</center>"
   ]
  },
  {
   "cell_type": "code",
   "execution_count": 6,
   "metadata": {},
   "outputs": [
    {
     "data": {
      "text/html": [
       "<div>\n",
       "<style scoped>\n",
       "    .dataframe tbody tr th:only-of-type {\n",
       "        vertical-align: middle;\n",
       "    }\n",
       "\n",
       "    .dataframe tbody tr th {\n",
       "        vertical-align: top;\n",
       "    }\n",
       "\n",
       "    .dataframe thead th {\n",
       "        text-align: right;\n",
       "    }\n",
       "</style>\n",
       "<table border=\"1\" class=\"dataframe\">\n",
       "  <thead>\n",
       "    <tr style=\"text-align: right;\">\n",
       "      <th></th>\n",
       "      <th>CRIM</th>\n",
       "      <th>ZN</th>\n",
       "      <th>INDUS</th>\n",
       "      <th>CHAS</th>\n",
       "      <th>NOX</th>\n",
       "      <th>RM</th>\n",
       "      <th>AGE</th>\n",
       "      <th>DIS</th>\n",
       "      <th>RAD</th>\n",
       "      <th>TAX</th>\n",
       "      <th>PTRATIO</th>\n",
       "      <th>B</th>\n",
       "      <th>LSTAT</th>\n",
       "      <th>MEDV</th>\n",
       "    </tr>\n",
       "  </thead>\n",
       "  <tbody>\n",
       "    <tr>\n",
       "      <th>CRIM</th>\n",
       "      <td>1.000</td>\n",
       "      <td>-0.200</td>\n",
       "      <td>0.407</td>\n",
       "      <td>-0.056</td>\n",
       "      <td>0.421</td>\n",
       "      <td>-0.219</td>\n",
       "      <td>0.353</td>\n",
       "      <td>-0.380</td>\n",
       "      <td>0.626</td>\n",
       "      <td>0.583</td>\n",
       "      <td>0.290</td>\n",
       "      <td>-0.385</td>\n",
       "      <td>0.456</td>\n",
       "      <td>-0.388</td>\n",
       "    </tr>\n",
       "    <tr>\n",
       "      <th>ZN</th>\n",
       "      <td>-0.200</td>\n",
       "      <td>1.000</td>\n",
       "      <td>-0.534</td>\n",
       "      <td>-0.043</td>\n",
       "      <td>-0.517</td>\n",
       "      <td>0.312</td>\n",
       "      <td>-0.570</td>\n",
       "      <td>0.664</td>\n",
       "      <td>-0.312</td>\n",
       "      <td>-0.315</td>\n",
       "      <td>-0.392</td>\n",
       "      <td>0.176</td>\n",
       "      <td>-0.413</td>\n",
       "      <td>0.360</td>\n",
       "    </tr>\n",
       "    <tr>\n",
       "      <th>INDUS</th>\n",
       "      <td>0.407</td>\n",
       "      <td>-0.534</td>\n",
       "      <td>1.000</td>\n",
       "      <td>0.063</td>\n",
       "      <td>0.764</td>\n",
       "      <td>-0.392</td>\n",
       "      <td>0.645</td>\n",
       "      <td>-0.708</td>\n",
       "      <td>0.595</td>\n",
       "      <td>0.721</td>\n",
       "      <td>0.383</td>\n",
       "      <td>-0.357</td>\n",
       "      <td>0.604</td>\n",
       "      <td>-0.484</td>\n",
       "    </tr>\n",
       "    <tr>\n",
       "      <th>CHAS</th>\n",
       "      <td>-0.056</td>\n",
       "      <td>-0.043</td>\n",
       "      <td>0.063</td>\n",
       "      <td>1.000</td>\n",
       "      <td>0.091</td>\n",
       "      <td>0.091</td>\n",
       "      <td>0.087</td>\n",
       "      <td>-0.099</td>\n",
       "      <td>-0.007</td>\n",
       "      <td>-0.036</td>\n",
       "      <td>-0.122</td>\n",
       "      <td>0.049</td>\n",
       "      <td>-0.054</td>\n",
       "      <td>0.175</td>\n",
       "    </tr>\n",
       "    <tr>\n",
       "      <th>NOX</th>\n",
       "      <td>0.421</td>\n",
       "      <td>-0.517</td>\n",
       "      <td>0.764</td>\n",
       "      <td>0.091</td>\n",
       "      <td>1.000</td>\n",
       "      <td>-0.302</td>\n",
       "      <td>0.731</td>\n",
       "      <td>-0.769</td>\n",
       "      <td>0.611</td>\n",
       "      <td>0.668</td>\n",
       "      <td>0.189</td>\n",
       "      <td>-0.380</td>\n",
       "      <td>0.591</td>\n",
       "      <td>-0.427</td>\n",
       "    </tr>\n",
       "    <tr>\n",
       "      <th>RM</th>\n",
       "      <td>-0.219</td>\n",
       "      <td>0.312</td>\n",
       "      <td>-0.392</td>\n",
       "      <td>0.091</td>\n",
       "      <td>-0.302</td>\n",
       "      <td>1.000</td>\n",
       "      <td>-0.240</td>\n",
       "      <td>0.205</td>\n",
       "      <td>-0.210</td>\n",
       "      <td>-0.292</td>\n",
       "      <td>-0.356</td>\n",
       "      <td>0.128</td>\n",
       "      <td>-0.614</td>\n",
       "      <td>0.695</td>\n",
       "    </tr>\n",
       "    <tr>\n",
       "      <th>AGE</th>\n",
       "      <td>0.353</td>\n",
       "      <td>-0.570</td>\n",
       "      <td>0.645</td>\n",
       "      <td>0.087</td>\n",
       "      <td>0.731</td>\n",
       "      <td>-0.240</td>\n",
       "      <td>1.000</td>\n",
       "      <td>-0.748</td>\n",
       "      <td>0.456</td>\n",
       "      <td>0.506</td>\n",
       "      <td>0.262</td>\n",
       "      <td>-0.274</td>\n",
       "      <td>0.602</td>\n",
       "      <td>-0.377</td>\n",
       "    </tr>\n",
       "    <tr>\n",
       "      <th>DIS</th>\n",
       "      <td>-0.380</td>\n",
       "      <td>0.664</td>\n",
       "      <td>-0.708</td>\n",
       "      <td>-0.099</td>\n",
       "      <td>-0.769</td>\n",
       "      <td>0.205</td>\n",
       "      <td>-0.748</td>\n",
       "      <td>1.000</td>\n",
       "      <td>-0.495</td>\n",
       "      <td>-0.534</td>\n",
       "      <td>-0.232</td>\n",
       "      <td>0.292</td>\n",
       "      <td>-0.497</td>\n",
       "      <td>0.250</td>\n",
       "    </tr>\n",
       "    <tr>\n",
       "      <th>RAD</th>\n",
       "      <td>0.626</td>\n",
       "      <td>-0.312</td>\n",
       "      <td>0.595</td>\n",
       "      <td>-0.007</td>\n",
       "      <td>0.611</td>\n",
       "      <td>-0.210</td>\n",
       "      <td>0.456</td>\n",
       "      <td>-0.495</td>\n",
       "      <td>1.000</td>\n",
       "      <td>0.910</td>\n",
       "      <td>0.465</td>\n",
       "      <td>-0.444</td>\n",
       "      <td>0.489</td>\n",
       "      <td>-0.382</td>\n",
       "    </tr>\n",
       "    <tr>\n",
       "      <th>TAX</th>\n",
       "      <td>0.583</td>\n",
       "      <td>-0.315</td>\n",
       "      <td>0.721</td>\n",
       "      <td>-0.036</td>\n",
       "      <td>0.668</td>\n",
       "      <td>-0.292</td>\n",
       "      <td>0.506</td>\n",
       "      <td>-0.534</td>\n",
       "      <td>0.910</td>\n",
       "      <td>1.000</td>\n",
       "      <td>0.461</td>\n",
       "      <td>-0.442</td>\n",
       "      <td>0.544</td>\n",
       "      <td>-0.469</td>\n",
       "    </tr>\n",
       "    <tr>\n",
       "      <th>PTRATIO</th>\n",
       "      <td>0.290</td>\n",
       "      <td>-0.392</td>\n",
       "      <td>0.383</td>\n",
       "      <td>-0.122</td>\n",
       "      <td>0.189</td>\n",
       "      <td>-0.356</td>\n",
       "      <td>0.262</td>\n",
       "      <td>-0.232</td>\n",
       "      <td>0.465</td>\n",
       "      <td>0.461</td>\n",
       "      <td>1.000</td>\n",
       "      <td>-0.177</td>\n",
       "      <td>0.374</td>\n",
       "      <td>-0.508</td>\n",
       "    </tr>\n",
       "    <tr>\n",
       "      <th>B</th>\n",
       "      <td>-0.385</td>\n",
       "      <td>0.176</td>\n",
       "      <td>-0.357</td>\n",
       "      <td>0.049</td>\n",
       "      <td>-0.380</td>\n",
       "      <td>0.128</td>\n",
       "      <td>-0.274</td>\n",
       "      <td>0.292</td>\n",
       "      <td>-0.444</td>\n",
       "      <td>-0.442</td>\n",
       "      <td>-0.177</td>\n",
       "      <td>1.000</td>\n",
       "      <td>-0.366</td>\n",
       "      <td>0.333</td>\n",
       "    </tr>\n",
       "    <tr>\n",
       "      <th>LSTAT</th>\n",
       "      <td>0.456</td>\n",
       "      <td>-0.413</td>\n",
       "      <td>0.604</td>\n",
       "      <td>-0.054</td>\n",
       "      <td>0.591</td>\n",
       "      <td>-0.614</td>\n",
       "      <td>0.602</td>\n",
       "      <td>-0.497</td>\n",
       "      <td>0.489</td>\n",
       "      <td>0.544</td>\n",
       "      <td>0.374</td>\n",
       "      <td>-0.366</td>\n",
       "      <td>1.000</td>\n",
       "      <td>-0.738</td>\n",
       "    </tr>\n",
       "    <tr>\n",
       "      <th>MEDV</th>\n",
       "      <td>-0.388</td>\n",
       "      <td>0.360</td>\n",
       "      <td>-0.484</td>\n",
       "      <td>0.175</td>\n",
       "      <td>-0.427</td>\n",
       "      <td>0.695</td>\n",
       "      <td>-0.377</td>\n",
       "      <td>0.250</td>\n",
       "      <td>-0.382</td>\n",
       "      <td>-0.469</td>\n",
       "      <td>-0.508</td>\n",
       "      <td>0.333</td>\n",
       "      <td>-0.738</td>\n",
       "      <td>1.000</td>\n",
       "    </tr>\n",
       "  </tbody>\n",
       "</table>\n",
       "</div>"
      ],
      "text/plain": [
       "          CRIM     ZN  INDUS   CHAS    NOX     RM    AGE    DIS    RAD    TAX  \\\n",
       "CRIM     1.000 -0.200  0.407 -0.056  0.421 -0.219  0.353 -0.380  0.626  0.583   \n",
       "ZN      -0.200  1.000 -0.534 -0.043 -0.517  0.312 -0.570  0.664 -0.312 -0.315   \n",
       "INDUS    0.407 -0.534  1.000  0.063  0.764 -0.392  0.645 -0.708  0.595  0.721   \n",
       "CHAS    -0.056 -0.043  0.063  1.000  0.091  0.091  0.087 -0.099 -0.007 -0.036   \n",
       "NOX      0.421 -0.517  0.764  0.091  1.000 -0.302  0.731 -0.769  0.611  0.668   \n",
       "RM      -0.219  0.312 -0.392  0.091 -0.302  1.000 -0.240  0.205 -0.210 -0.292   \n",
       "AGE      0.353 -0.570  0.645  0.087  0.731 -0.240  1.000 -0.748  0.456  0.506   \n",
       "DIS     -0.380  0.664 -0.708 -0.099 -0.769  0.205 -0.748  1.000 -0.495 -0.534   \n",
       "RAD      0.626 -0.312  0.595 -0.007  0.611 -0.210  0.456 -0.495  1.000  0.910   \n",
       "TAX      0.583 -0.315  0.721 -0.036  0.668 -0.292  0.506 -0.534  0.910  1.000   \n",
       "PTRATIO  0.290 -0.392  0.383 -0.122  0.189 -0.356  0.262 -0.232  0.465  0.461   \n",
       "B       -0.385  0.176 -0.357  0.049 -0.380  0.128 -0.274  0.292 -0.444 -0.442   \n",
       "LSTAT    0.456 -0.413  0.604 -0.054  0.591 -0.614  0.602 -0.497  0.489  0.544   \n",
       "MEDV    -0.388  0.360 -0.484  0.175 -0.427  0.695 -0.377  0.250 -0.382 -0.469   \n",
       "\n",
       "         PTRATIO      B  LSTAT   MEDV  \n",
       "CRIM       0.290 -0.385  0.456 -0.388  \n",
       "ZN        -0.392  0.176 -0.413  0.360  \n",
       "INDUS      0.383 -0.357  0.604 -0.484  \n",
       "CHAS      -0.122  0.049 -0.054  0.175  \n",
       "NOX        0.189 -0.380  0.591 -0.427  \n",
       "RM        -0.356  0.128 -0.614  0.695  \n",
       "AGE        0.262 -0.274  0.602 -0.377  \n",
       "DIS       -0.232  0.292 -0.497  0.250  \n",
       "RAD        0.465 -0.444  0.489 -0.382  \n",
       "TAX        0.461 -0.442  0.544 -0.469  \n",
       "PTRATIO    1.000 -0.177  0.374 -0.508  \n",
       "B         -0.177  1.000 -0.366  0.333  \n",
       "LSTAT      0.374 -0.366  1.000 -0.738  \n",
       "MEDV      -0.508  0.333 -0.738  1.000  "
      ]
     },
     "execution_count": 6,
     "metadata": {},
     "output_type": "execute_result"
    }
   ],
   "source": [
    "np.round(df.corr(),3)"
   ]
  },
  {
   "cell_type": "markdown",
   "metadata": {},
   "source": [
    "### <center>Table 3</center>"
   ]
  },
  {
   "cell_type": "code",
   "execution_count": 7,
   "metadata": {},
   "outputs": [
    {
     "data": {
      "text/plain": [
       "<matplotlib.axes._subplots.AxesSubplot at 0x28ec23e5ba8>"
      ]
     },
     "execution_count": 7,
     "metadata": {},
     "output_type": "execute_result"
    },
    {
     "data": {
      "image/png": "[encoded data removed]",
      "text/plain": [
       "<Figure size 864x864 with 2 Axes>"
      ]
     },
     "metadata": {
      "needs_background": "light"
     },
     "output_type": "display_data"
    }
   ],
   "source": [
    "#import numpy as np\n",
    "\n",
    "cor=df.corr()\n",
    "#create a mask to plot only the lower half of the heatmap\n",
    "mask=np.zeros_like(cor,dtype=np.bool)\n",
    "mask[np.triu_indices_from(mask)] = True\n",
    "#set the plot size\n",
    "pl.figure(figsize=(12,12))\n",
    "#plot the heatmap\n",
    "sns.heatmap(cor, mask=mask, xticklabels=cor.columns.values,\n",
    "            square=True, cmap='coolwarm', #vmin=-1, vmax=1, center=0,\n",
    "            yticklabels=cor.columns.values, annot=True, annot_kws={\"size\": 10.5})"
   ]
  },
  {
   "cell_type": "markdown",
   "metadata": {},
   "source": [
    "### <center>Figure 4</center>"
   ]
  },
  {
   "cell_type": "markdown",
   "metadata": {},
   "source": [
    "## Inferential Statistics"
   ]
  },
  {
   "cell_type": "markdown",
   "metadata": {},
   "source": [
    "[inferential statistcs](#Statistics)\n"
   ]
  },
  {
   "cell_type": "code",
   "execution_count": 8,
   "metadata": {},
   "outputs": [
    {
     "data": {
      "text/plain": [
       "<seaborn.axisgrid.FacetGrid at 0x28ec28fa978>"
      ]
     },
     "execution_count": 8,
     "metadata": {},
     "output_type": "execute_result"
    },
    {
     "data": {
      "text/plain": [
       "<Figure size 576x360 with 0 Axes>"
      ]
     },
     "metadata": {},
     "output_type": "display_data"
    },
    {
     "data": {
      "image/png": "[encoded data removed]",
      "text/plain": [
       "<Figure size 402.375x360 with 1 Axes>"
      ]
     },
     "metadata": {
      "needs_background": "light"
     },
     "output_type": "display_data"
    }
   ],
   "source": [
    "#df2=df[df['MEDV']<50]\n",
    "pl.figure(figsize=(8,5))\n",
    "sns.lmplot(data=df,x='MEDV',y='LSTAT', hue='CHAS')"
   ]
  },
  {
   "cell_type": "markdown",
   "metadata": {},
   "source": [
    "### <center>Figure 5</center>"
   ]
  },
  {
   "cell_type": "markdown",
   "metadata": {},
   "source": [
    "Inferring from the visuals alone and omitting regression lines as a visual aid, the initial impression from plotting LSTAT against MEDV did not really impart a sense of a substantial difference in properties not bordering the Charles river. The negative correlation is also not that obvious from the visuals and the divide between river bordering properties would not be that clear without the aid of regression lines. \n",
    "\n",
    "The 50K capped values in this instance creates the divide and when filtered practically disappear."
   ]
  },
  {
   "cell_type": "code",
   "execution_count": 9,
   "metadata": {},
   "outputs": [
    {
     "data": {
      "text/plain": [
       "<seaborn.axisgrid.FacetGrid at 0x28ec16ebf28>"
      ]
     },
     "execution_count": 9,
     "metadata": {},
     "output_type": "execute_result"
    },
    {
     "data": {
      "text/plain": [
       "<Figure size 576x360 with 0 Axes>"
      ]
     },
     "metadata": {},
     "output_type": "display_data"
    },
    {
     "data": {
      "image/png": "[encoded data removed]",
      "text/plain": [
       "<Figure size 402.375x360 with 1 Axes>"
      ]
     },
     "metadata": {
      "needs_background": "light"
     },
     "output_type": "display_data"
    }
   ],
   "source": [
    "pl.figure(figsize=(8,5))\n",
    "sns.lmplot(data=df,x='MEDV',y='RM', hue='CHAS')"
   ]
  },
  {
   "cell_type": "markdown",
   "metadata": {},
   "source": [
    "### <center>Figure 6</center>"
   ]
  },
  {
   "cell_type": "markdown",
   "metadata": {},
   "source": [
    "A Very similar experience is imparted plotting RM against MEDV and creating colour distinctions using CHAS. \n",
    "\n",
    "This time the trends cross over mid-range and flips opposite way when 50k cap is filtered out. \n",
    "\n",
    "The capping of the property register data at 50k seems to statistically skew the dataset and affect statistical trend in an unrepresented fashion. "
   ]
  },
  {
   "cell_type": "code",
   "execution_count": 10,
   "metadata": {},
   "outputs": [
    {
     "data": {
      "text/plain": [
       "<seaborn.axisgrid.FacetGrid at 0x28ec2950908>"
      ]
     },
     "execution_count": 10,
     "metadata": {},
     "output_type": "execute_result"
    },
    {
     "data": {
      "image/png": "[encoded data removed]",
      "text/plain": [
       "<Figure size 360x360 with 1 Axes>"
      ]
     },
     "metadata": {
      "needs_background": "light"
     },
     "output_type": "display_data"
    }
   ],
   "source": [
    "sns.catplot(data=df,x='CHAS', y='MEDV')"
   ]
  },
  {
   "cell_type": "markdown",
   "metadata": {},
   "source": [
    "### <center>Figure 7</center>"
   ]
  },
  {
   "cell_type": "markdown",
   "metadata": {},
   "source": [
    "The plot in __Figure 7__ attempts again to separate properties bordering the Charles river to and visualise to price distribution in relation to preferred locations. Visually the minority of bordering river properties do not seem to cover the same representative range of prices, however it is still difficult to arrive at a conclusion that bordering the river will have a price benefit on it's own.\n",
    "\n",
    "Exploring the issue further using a t-test might help arriving at some conclusion. "
   ]
  },
  {
   "cell_type": "code",
   "execution_count": 11,
   "metadata": {},
   "outputs": [],
   "source": [
    "import scipy.stats as ss\n",
    "#import statsmodels.stats.weightstats as ws"
   ]
  },
  {
   "cell_type": "code",
   "execution_count": 12,
   "metadata": {},
   "outputs": [],
   "source": [
    "chas1=df2[df2['CHAS']==1]['MEDV']\n",
    "chas0=df2[df2['CHAS']==0]['MEDV']"
   ]
  },
  {
   "cell_type": "code",
   "execution_count": 13,
   "metadata": {},
   "outputs": [
    {
     "data": {
      "text/plain": [
       "Ttest_indResult(statistic=3.9964374660905153, pvalue=7.390623170519708e-05)"
      ]
     },
     "execution_count": 13,
     "metadata": {},
     "output_type": "execute_result"
    }
   ],
   "source": [
    "ss.ttest_ind(chas1, chas0)"
   ]
  },
  {
   "cell_type": "markdown",
   "metadata": {},
   "source": [
    "### Is there a significant difference in median house prices along the river?\n",
    "\n",
    "The houses along the river are very well scattered through the dataset in general, however more than 40% of the 50k and above properties are next to the river. To infer significance from plots and data alone provides very vague hints and lacks to instil confidence in ones deductions.\n",
    "\n",
    "There is also a problem in the dataset that is caused by the 50k cap in the property values and creating vaslty different outcomes everywhere including in the t-test. \n",
    "\n",
    "**Running a t-test on the dataset with 50k data yields a very small p-value significantly below 1%, so we we have a clear statistically significant difference and we therefore have to reject the null hypothesis of equal averages. using all data**\n",
    "\n",
    "\n",
    "Also just looking at the correlation, the value suggest an 18% correlation between facing the river and the values of the house prices and subsequently looking at the variance testing the final Keras model does support the notion that bordering the river has a significance on the property cost and the correlation value of around 18% shows a price difference around the 16% adding and removing the dummy variable to test samples.\n",
    "\n",
    "This infuence sometimes fails to model with a visible significance and might be down to the initialisation of the network and potentially the lack of linearising the values before modelling. It is therefore with reasonable certainty we can  make the claim that there is a significant value increase for properties bordering the Charles river. "
   ]
  },
  {
   "cell_type": "markdown",
   "metadata": {},
   "source": [
    "## Predictive statistics using Keras"
   ]
  },
  {
   "cell_type": "markdown",
   "metadata": {},
   "source": [
    "The following imports will be required in the Keras Predictive section."
   ]
  },
  {
   "cell_type": "code",
   "execution_count": 14,
   "metadata": {},
   "outputs": [
    {
     "name": "stderr",
     "output_type": "stream",
     "text": [
      "Using TensorFlow backend.\n"
     ]
    }
   ],
   "source": [
    "import keras as kr\n",
    "import pandas as pd\n",
    "import numpy as np\n",
    "import matplotlib.pyplot as pl\n",
    "from time import time"
   ]
  },
  {
   "cell_type": "markdown",
   "metadata": {},
   "source": [
    "The house prices are capped at __USD50k__ and as a result creates a skewed affect on the modelling. The dataset is therefore sanitised to only include values below __USD50k__ and modelling performed on the subset below this cap value in order to try and generate a realistic model that can predict property prices based on the dataset criteria.  "
   ]
  },
  {
   "cell_type": "code",
   "execution_count": 15,
   "metadata": {},
   "outputs": [],
   "source": [
    "df=df[df['MEDV']<50]"
   ]
  },
  {
   "cell_type": "markdown",
   "metadata": {},
   "source": [
    "The dataset is separated into inputs and outputs and the inputs will consist of all the values except for the __MEDV__ column that is the selling prices of the houses in the dataset."
   ]
  },
  {
   "cell_type": "code",
   "execution_count": 16,
   "metadata": {},
   "outputs": [
    {
     "data": {
      "text/html": [
       "<div>\n",
       "<style scoped>\n",
       "    .dataframe tbody tr th:only-of-type {\n",
       "        vertical-align: middle;\n",
       "    }\n",
       "\n",
       "    .dataframe tbody tr th {\n",
       "        vertical-align: top;\n",
       "    }\n",
       "\n",
       "    .dataframe thead th {\n",
       "        text-align: right;\n",
       "    }\n",
       "</style>\n",
       "<table border=\"1\" class=\"dataframe\">\n",
       "  <thead>\n",
       "    <tr style=\"text-align: right;\">\n",
       "      <th></th>\n",
       "      <th>CRIM</th>\n",
       "      <th>ZN</th>\n",
       "      <th>INDUS</th>\n",
       "      <th>CHAS</th>\n",
       "      <th>NOX</th>\n",
       "      <th>RM</th>\n",
       "      <th>AGE</th>\n",
       "      <th>DIS</th>\n",
       "      <th>RAD</th>\n",
       "      <th>TAX</th>\n",
       "      <th>PTRATIO</th>\n",
       "      <th>B</th>\n",
       "      <th>LSTAT</th>\n",
       "    </tr>\n",
       "  </thead>\n",
       "  <tbody>\n",
       "    <tr>\n",
       "      <th>count</th>\n",
       "      <td>490.000</td>\n",
       "      <td>490.000</td>\n",
       "      <td>490.000</td>\n",
       "      <td>490.000</td>\n",
       "      <td>490.000</td>\n",
       "      <td>490.000</td>\n",
       "      <td>490.000</td>\n",
       "      <td>490.000</td>\n",
       "      <td>490.000</td>\n",
       "      <td>490.000</td>\n",
       "      <td>490.00</td>\n",
       "      <td>490.000</td>\n",
       "      <td>490.000</td>\n",
       "    </tr>\n",
       "    <tr>\n",
       "      <th>mean</th>\n",
       "      <td>3.643</td>\n",
       "      <td>11.112</td>\n",
       "      <td>11.113</td>\n",
       "      <td>0.059</td>\n",
       "      <td>0.554</td>\n",
       "      <td>6.245</td>\n",
       "      <td>68.279</td>\n",
       "      <td>3.835</td>\n",
       "      <td>9.514</td>\n",
       "      <td>408.002</td>\n",
       "      <td>18.52</td>\n",
       "      <td>355.855</td>\n",
       "      <td>12.924</td>\n",
       "    </tr>\n",
       "    <tr>\n",
       "      <th>std</th>\n",
       "      <td>8.722</td>\n",
       "      <td>22.845</td>\n",
       "      <td>6.821</td>\n",
       "      <td>0.236</td>\n",
       "      <td>0.117</td>\n",
       "      <td>0.653</td>\n",
       "      <td>28.165</td>\n",
       "      <td>2.110</td>\n",
       "      <td>8.691</td>\n",
       "      <td>168.065</td>\n",
       "      <td>2.11</td>\n",
       "      <td>92.634</td>\n",
       "      <td>7.083</td>\n",
       "    </tr>\n",
       "    <tr>\n",
       "      <th>min</th>\n",
       "      <td>0.006</td>\n",
       "      <td>0.000</td>\n",
       "      <td>0.740</td>\n",
       "      <td>0.000</td>\n",
       "      <td>0.385</td>\n",
       "      <td>3.561</td>\n",
       "      <td>2.900</td>\n",
       "      <td>1.137</td>\n",
       "      <td>1.000</td>\n",
       "      <td>187.000</td>\n",
       "      <td>12.60</td>\n",
       "      <td>0.320</td>\n",
       "      <td>1.980</td>\n",
       "    </tr>\n",
       "    <tr>\n",
       "      <th>25%</th>\n",
       "      <td>0.082</td>\n",
       "      <td>0.000</td>\n",
       "      <td>5.190</td>\n",
       "      <td>0.000</td>\n",
       "      <td>0.449</td>\n",
       "      <td>5.881</td>\n",
       "      <td>44.550</td>\n",
       "      <td>2.111</td>\n",
       "      <td>4.000</td>\n",
       "      <td>280.250</td>\n",
       "      <td>17.40</td>\n",
       "      <td>375.912</td>\n",
       "      <td>7.348</td>\n",
       "    </tr>\n",
       "    <tr>\n",
       "      <th>50%</th>\n",
       "      <td>0.248</td>\n",
       "      <td>0.000</td>\n",
       "      <td>9.690</td>\n",
       "      <td>0.000</td>\n",
       "      <td>0.538</td>\n",
       "      <td>6.185</td>\n",
       "      <td>76.800</td>\n",
       "      <td>3.276</td>\n",
       "      <td>5.000</td>\n",
       "      <td>330.000</td>\n",
       "      <td>19.10</td>\n",
       "      <td>391.770</td>\n",
       "      <td>11.675</td>\n",
       "    </tr>\n",
       "    <tr>\n",
       "      <th>75%</th>\n",
       "      <td>3.647</td>\n",
       "      <td>12.500</td>\n",
       "      <td>18.100</td>\n",
       "      <td>0.000</td>\n",
       "      <td>0.624</td>\n",
       "      <td>6.578</td>\n",
       "      <td>93.875</td>\n",
       "      <td>5.215</td>\n",
       "      <td>24.000</td>\n",
       "      <td>666.000</td>\n",
       "      <td>20.20</td>\n",
       "      <td>396.322</td>\n",
       "      <td>17.118</td>\n",
       "    </tr>\n",
       "    <tr>\n",
       "      <th>max</th>\n",
       "      <td>88.976</td>\n",
       "      <td>100.000</td>\n",
       "      <td>27.740</td>\n",
       "      <td>1.000</td>\n",
       "      <td>0.871</td>\n",
       "      <td>8.780</td>\n",
       "      <td>100.000</td>\n",
       "      <td>12.126</td>\n",
       "      <td>24.000</td>\n",
       "      <td>711.000</td>\n",
       "      <td>22.00</td>\n",
       "      <td>396.900</td>\n",
       "      <td>37.970</td>\n",
       "    </tr>\n",
       "  </tbody>\n",
       "</table>\n",
       "</div>"
      ],
      "text/plain": [
       "          CRIM       ZN    INDUS     CHAS      NOX       RM      AGE      DIS  \\\n",
       "count  490.000  490.000  490.000  490.000  490.000  490.000  490.000  490.000   \n",
       "mean     3.643   11.112   11.113    0.059    0.554    6.245   68.279    3.835   \n",
       "std      8.722   22.845    6.821    0.236    0.117    0.653   28.165    2.110   \n",
       "min      0.006    0.000    0.740    0.000    0.385    3.561    2.900    1.137   \n",
       "25%      0.082    0.000    5.190    0.000    0.449    5.881   44.550    2.111   \n",
       "50%      0.248    0.000    9.690    0.000    0.538    6.185   76.800    3.276   \n",
       "75%      3.647   12.500   18.100    0.000    0.624    6.578   93.875    5.215   \n",
       "max     88.976  100.000   27.740    1.000    0.871    8.780  100.000   12.126   \n",
       "\n",
       "           RAD      TAX  PTRATIO        B    LSTAT  \n",
       "count  490.000  490.000   490.00  490.000  490.000  \n",
       "mean     9.514  408.002    18.52  355.855   12.924  \n",
       "std      8.691  168.065     2.11   92.634    7.083  \n",
       "min      1.000  187.000    12.60    0.320    1.980  \n",
       "25%      4.000  280.250    17.40  375.912    7.348  \n",
       "50%      5.000  330.000    19.10  391.770   11.675  \n",
       "75%     24.000  666.000    20.20  396.322   17.118  \n",
       "max     24.000  711.000    22.00  396.900   37.970  "
      ]
     },
     "execution_count": 16,
     "metadata": {},
     "output_type": "execute_result"
    }
   ],
   "source": [
    "inputs=df[['CRIM','ZN','INDUS','CHAS','NOX','RM','AGE','DIS','RAD','TAX','PTRATIO','B','LSTAT']]\n",
    "np.round(inputs.describe(),3)"
   ]
  },
  {
   "cell_type": "markdown",
   "metadata": {},
   "source": [
    "### <center>Table 4</center>"
   ]
  },
  {
   "cell_type": "code",
   "execution_count": 17,
   "metadata": {},
   "outputs": [
    {
     "data": {
      "text/plain": [
       "count    490.000\n",
       "mean      21.636\n",
       "std        7.865\n",
       "min        5.000\n",
       "25%       16.700\n",
       "50%       20.900\n",
       "75%       24.675\n",
       "max       48.800\n",
       "Name: MEDV, dtype: float64"
      ]
     },
     "execution_count": 17,
     "metadata": {},
     "output_type": "execute_result"
    }
   ],
   "source": [
    "output=df['MEDV']\n",
    "np.round(output.describe(),3)"
   ]
  },
  {
   "cell_type": "markdown",
   "metadata": {},
   "source": [
    "### Building and training the network"
   ]
  },
  {
   "cell_type": "markdown",
   "metadata": {},
   "source": [
    "A list of all the options were created and iterated through to explore the effects of all the options to select the best options for creating the network and final model."
   ]
  },
  {
   "cell_type": "code",
   "execution_count": 18,
   "metadata": {},
   "outputs": [
    {
     "name": "stdout",
     "output_type": "stream",
     "text": [
      "Processing Time: 57.41 seconds (1 minutes)\n"
     ]
    },
    {
     "data": {
      "image/png": "[encoded data removed]",
      "text/plain": [
       "<Figure size 576x360 with 1 Axes>"
      ]
     },
     "metadata": {
      "needs_background": "light"
     },
     "output_type": "display_data"
    }
   ],
   "source": [
    "#building sets to iterate through to search for best solution\n",
    "b=(1,2,4,8,16,32,64,128,256,506)\n",
    "act=(\"linear\", \"sigmoid\", \"tanh\", \"elu\", \"softmax\", \"selu\", \"softplus\", \"softsign\", \"relu\", \"hard_sigmoid\", \"exponential\")\n",
    "ls=(\"mean_squared_error\", \"mean_absolute_error\", \"mean_absolute_percentage_error\", \"mean_squared_logarithmic_error\", \n",
    "    \"squared_hinge\", \"hinge\", \"categorical_hinge\", \"logcosh\")\n",
    "opt=(\"sgd\", \"adam\", \"Adamax\", \"Nadam\", \"RMSprop\", \"Adagrad\", \"Adadelta\")\n",
    "\n",
    "# https://machinelearningmastery.com/display-deep-learning-model-training-history-in-keras/\n",
    "\n",
    "# for batch in b:\n",
    "# for action in act:\n",
    "# for loss in ls:\n",
    "# for optimiser in opt:\n",
    "\n",
    "start=time() # mark the start of training\n",
    "m = kr.models.Sequential()\n",
    "m.add(kr.layers.Dense(24, input_dim=13, activation=\"softplus\"))\n",
    "m.add(kr.layers.Dense(12, activation=\"softplus\"))\n",
    "m.add(kr.layers.Dense(1))\n",
    "m.compile(loss=\"mean_squared_logarithmic_error\", optimizer=\"nadam\")\n",
    "hist=m.fit(inputs, output, validation_split = 0.25, epochs=1000, batch_size=8, verbose=0)\n",
    "#print(hist.history.keys())\n",
    "end=time() # mark the end of training\n",
    "print(\"Processing Time: {:.2f} seconds ({:.0f} minutes)\".format(end-start, (end-start)/60))\n",
    "#plot the training graphs\n",
    "pl.figure(figsize=(8,5))\n",
    "pl.plot(hist.history['loss'])\n",
    "pl.plot(hist.history['val_loss'])\n",
    "pl.title('model loss')\n",
    "pl.ylabel('loss')\n",
    "pl.xlabel('epoch')\n",
    "pl.legend(['train', 'test'], loc='upper left')\n",
    "pl.show()\n"
   ]
  },
  {
   "cell_type": "markdown",
   "metadata": {},
   "source": [
    "### <center>Figure 8</center>"
   ]
  },
  {
   "cell_type": "markdown",
   "metadata": {},
   "source": [
    "Finding a final working solutions really feels more like dumb luck than actually doing data science. Iterating through all the options and not making progress created a lot of frustration and manually doing iterations is frustrating and time consuming as one feels like no progress is made until suddenly there is a huge jump and results are good and very accurate. \n",
    "\n",
    "The problem with this approach is once a model work on a data set it create a very false impression of having mastered the skill of creating a neural net and training approach as the approach taken for finding a solution on one dataset does not necessarily work on another. \n",
    "\n",
    "The initial approach taken was working with low number of batches and epoch and then trying to scale up by taking the best combinations through more epochs. This approach on this dataset failed miserably. \n",
    "\n",
    "The big break came by adjusting the validation split down from 0.33 to 0.25 and suddenly lumped down from losses of 5k region to losses of 0.25. This was a total surprise and very much unanticipated.\n",
    "\n",
    "The second problem is following advice of online gurus and running batches of 1 that slows down everything exponentially and resulted in training runs lasting up to 10 minutes between adjustments. This is tedious and cumbersome to watch and wait to make adjustments.\n",
    "\n",
    "One of the last issues was caused by the validation spilt and from reading up on the topic stumbled upon a hint indicating the cause of the issue. There was a consistent deviation in the last quarter of the dataset where huge error occurred with prediction error as big as USD7k. This was caused by the validation split that always select datapoint from the last quarter of the dataset and as a result not model properly. The solution was very simple in the end and simply involved refitting using the complete dataset with a validation split as performed in the next section below. \n"
   ]
  },
  {
   "cell_type": "markdown",
   "metadata": {},
   "source": [
    "### Validating the model"
   ]
  },
  {
   "cell_type": "markdown",
   "metadata": {},
   "source": [
    "Validating the model performance from the training data just completed above and then with all the data again below shows further improvements in accuracy mostly by eliminating big errors caused by gaps in the training data taken away from the last quarter of the dataset only. "
   ]
  },
  {
   "cell_type": "code",
   "execution_count": 19,
   "metadata": {},
   "outputs": [
    {
     "name": "stdout",
     "output_type": "stream",
     "text": [
      "Validation Model Loss: 0.079\n"
     ]
    }
   ],
   "source": [
    "print(\"Validation Model Loss: {:0.3f}\".format(m.evaluate(inputs,output, verbose=0)))"
   ]
  },
  {
   "cell_type": "code",
   "execution_count": 20,
   "metadata": {},
   "outputs": [
    {
     "name": "stdout",
     "output_type": "stream",
     "text": [
      "Validation on Full dataset - Processing Time: 65.16 seconds (1 minutes)\n"
     ]
    }
   ],
   "source": [
    "start=time()\n",
    "m.fit(inputs, output, epochs=1000, batch_size=8, verbose=0)\n",
    "end=time()\n",
    "print(\"Validation on Full dataset - Processing Time: {:.2f} seconds ({:.0f} minutes)\".format(end-start, (end-start)/60))"
   ]
  },
  {
   "cell_type": "code",
   "execution_count": 21,
   "metadata": {},
   "outputs": [
    {
     "name": "stdout",
     "output_type": "stream",
     "text": [
      "Final Model Loss: 0.012\n"
     ]
    }
   ],
   "source": [
    "print(\"Final Model Loss: {:0.3f}\".format(m.evaluate(inputs,output, verbose=0)))"
   ]
  },
  {
   "cell_type": "markdown",
   "metadata": {},
   "source": [
    "Retraining without a validation split improves the final model overall results by a factor of around five times. A lot of time went into trying to figure out what the issue was and the solution so simple to just retrain with all the data points now that a good solution was identified.\n",
    "\n",
    "The model can now be save and reloaded as required to run predictions on."
   ]
  },
  {
   "cell_type": "code",
   "execution_count": 22,
   "metadata": {},
   "outputs": [],
   "source": [
    "m.save('data/good_model.h5')\n",
    "#m.summary()\n",
    "#m=kr.models.load_model('data/good_model.h5')\n",
    "#m.summary()"
   ]
  },
  {
   "cell_type": "markdown",
   "metadata": {},
   "source": [
    "The cumulative error gives a good summary of the final performance of the model by adding the absolute differences between the predicted and actual numbers together. Getting a value of 50 over about 500 values is pretty good indicating an error of 0.1 across the entire set. The predictions is better than 0.5% and in an acceptable range."
   ]
  },
  {
   "cell_type": "code",
   "execution_count": 23,
   "metadata": {},
   "outputs": [
    {
     "name": "stdout",
     "output_type": "stream",
     "text": [
      "cumulative Error: 47.890 over 490 values = 0.0977\n"
     ]
    }
   ],
   "source": [
    "print(\"cumulative Error: {:.3f} over {} values = {:.4f}\".format(np.sqrt(np.sum((m.predict(inputs).T - output.values)**2)), len(output), np.sqrt(np.sum((m.predict(inputs).T - output.values)**2))/len(output)))"
   ]
  },
  {
   "cell_type": "code",
   "execution_count": 24,
   "metadata": {},
   "outputs": [
    {
     "data": {
      "text/plain": [
       "<matplotlib.axes._subplots.AxesSubplot at 0x28ec1c392b0>"
      ]
     },
     "execution_count": 24,
     "metadata": {},
     "output_type": "execute_result"
    },
    {
     "data": {
      "image/png": "[encoded data removed]",
      "text/plain": [
       "<Figure size 1080x360 with 1 Axes>"
      ]
     },
     "metadata": {
      "needs_background": "light"
     },
     "output_type": "display_data"
    }
   ],
   "source": [
    "import seaborn as sns\n",
    "#np.round(m.predict(inputs).T)\n",
    "#np.round(output.values)\n",
    "df2=pd.DataFrame(np.round((m.predict(inputs).T - output.values),1)).T\n",
    "pl.figure(figsize=(15,5))\n",
    "sns.distplot(df2)"
   ]
  },
  {
   "cell_type": "markdown",
   "metadata": {},
   "source": [
    "### <center>Figure 9</center>"
   ]
  },
  {
   "cell_type": "code",
   "execution_count": 25,
   "metadata": {},
   "outputs": [
    {
     "data": {
      "text/plain": [
       "<matplotlib.axes._subplots.AxesSubplot at 0x28ecb3bea20>"
      ]
     },
     "execution_count": 25,
     "metadata": {},
     "output_type": "execute_result"
    },
    {
     "data": {
      "image/png": "[encoded data removed]",
      "text/plain": [
       "<Figure size 1080x72 with 1 Axes>"
      ]
     },
     "metadata": {
      "needs_background": "light"
     },
     "output_type": "display_data"
    }
   ],
   "source": [
    "pl.figure(figsize=(15,1))\n",
    "sns.boxplot(df2)"
   ]
  },
  {
   "cell_type": "markdown",
   "metadata": {},
   "source": [
    "### <center>Figure 10</center>"
   ]
  },
  {
   "cell_type": "markdown",
   "metadata": {},
   "source": [
    "Visualising the prediction errors as shown in Figure 9 and 10 show the majority of the predictions well centered and accurately predicting most of the know dataset. The extremes in the tails have errors above five. Outliers accounts for about 3% of the predictions. \n",
    "\n",
    "Given all the outliers in the dataset to begin with as shown in __Figure 2__ previously, only creating 3%  outliers in the predictions is a pretty good result. "
   ]
  },
  {
   "cell_type": "markdown",
   "metadata": {},
   "source": [
    "### Predict using the model"
   ]
  },
  {
   "cell_type": "code",
   "execution_count": 26,
   "metadata": {},
   "outputs": [
    {
     "data": {
      "text/html": [
       "<div>\n",
       "<style scoped>\n",
       "    .dataframe tbody tr th:only-of-type {\n",
       "        vertical-align: middle;\n",
       "    }\n",
       "\n",
       "    .dataframe tbody tr th {\n",
       "        vertical-align: top;\n",
       "    }\n",
       "\n",
       "    .dataframe thead th {\n",
       "        text-align: right;\n",
       "    }\n",
       "</style>\n",
       "<table border=\"1\" class=\"dataframe\">\n",
       "  <thead>\n",
       "    <tr style=\"text-align: right;\">\n",
       "      <th></th>\n",
       "      <th>CRIM</th>\n",
       "      <th>ZN</th>\n",
       "      <th>INDUS</th>\n",
       "      <th>CHAS</th>\n",
       "      <th>NOX</th>\n",
       "      <th>RM</th>\n",
       "      <th>AGE</th>\n",
       "      <th>DIS</th>\n",
       "      <th>RAD</th>\n",
       "      <th>TAX</th>\n",
       "      <th>PTRATIO</th>\n",
       "      <th>B</th>\n",
       "      <th>LSTAT</th>\n",
       "      <th>MEDV</th>\n",
       "    </tr>\n",
       "  </thead>\n",
       "  <tbody>\n",
       "    <tr>\n",
       "      <th>0</th>\n",
       "      <td>0.00632</td>\n",
       "      <td>18.0</td>\n",
       "      <td>2.31</td>\n",
       "      <td>0</td>\n",
       "      <td>0.538</td>\n",
       "      <td>6.575</td>\n",
       "      <td>65.2</td>\n",
       "      <td>4.0900</td>\n",
       "      <td>1</td>\n",
       "      <td>296</td>\n",
       "      <td>15.3</td>\n",
       "      <td>396.9</td>\n",
       "      <td>4.98</td>\n",
       "      <td>24.0</td>\n",
       "    </tr>\n",
       "    <tr>\n",
       "      <th>1</th>\n",
       "      <td>0.02731</td>\n",
       "      <td>0.0</td>\n",
       "      <td>7.07</td>\n",
       "      <td>0</td>\n",
       "      <td>0.469</td>\n",
       "      <td>6.421</td>\n",
       "      <td>78.9</td>\n",
       "      <td>4.9671</td>\n",
       "      <td>2</td>\n",
       "      <td>242</td>\n",
       "      <td>17.8</td>\n",
       "      <td>396.9</td>\n",
       "      <td>9.14</td>\n",
       "      <td>21.6</td>\n",
       "    </tr>\n",
       "  </tbody>\n",
       "</table>\n",
       "</div>"
      ],
      "text/plain": [
       "      CRIM    ZN  INDUS  CHAS    NOX     RM   AGE     DIS  RAD  TAX  PTRATIO  \\\n",
       "0  0.00632  18.0   2.31     0  0.538  6.575  65.2  4.0900    1  296     15.3   \n",
       "1  0.02731   0.0   7.07     0  0.469  6.421  78.9  4.9671    2  242     17.8   \n",
       "\n",
       "       B  LSTAT  MEDV  \n",
       "0  396.9   4.98  24.0  \n",
       "1  396.9   9.14  21.6  "
      ]
     },
     "execution_count": 26,
     "metadata": {},
     "output_type": "execute_result"
    }
   ],
   "source": [
    "df.head(2)"
   ]
  },
  {
   "cell_type": "code",
   "execution_count": 27,
   "metadata": {},
   "outputs": [
    {
     "name": "stdout",
     "output_type": "stream",
     "text": [
      "Modelled Value: [[24.779655]]\n"
     ]
    }
   ],
   "source": [
    "CRIM    = 0.0 # 0.00632- Per capita crime rate by town \n",
    "ZN      = 0.0    # 18.0   - proportion of residential land zoned for lots over 25,000 sq.ft.\n",
    "INDUS   = 1    # 2.31   - proportion of non-retail business acres per town\n",
    "CHAS    = 1       # 0      - Charles River dummy variable (= 1 if tract bounds river; 0 otherwise)\n",
    "NOX     = 0.0   # 0.538  - nitric oxides concentration (parts per 10 million)\n",
    "RM      = 6   # 6.575  - average number of rooms per dwelling\n",
    "AGE     = 15    # 65.2   - proportion of owner-occupied units built prior to 1940\n",
    "DIS     = 4   # 4.090  - weighted distances to five Boston employment centres\n",
    "RAD     = 1       # 1      - index of accessibility to radial highways\n",
    "TAX     = 300     # 296    - full-value property-tax rate per $10,000\n",
    "PTRATIO = 15    # 15.3   - pupil-teacher ratio by town\n",
    "B       = 400  # 396.90 - 1000(Bk - 0.63)^2 where Bk is the proportion of blacks by town\n",
    "LSTAT   = 0    # 4.98   - % lower status of the population\n",
    "\n",
    "test = [CRIM, ZN, INDUS, CHAS, NOX, RM, AGE, DIS, RAD, TAX, PTRATIO, B, LSTAT]\n",
    "print(\"Modelled Value: {:}\".format(m.predict(np.asmatrix(test))))"
   ]
  },
  {
   "cell_type": "markdown",
   "metadata": {},
   "source": [
    "# References\n",
    "## Statistics\n",
    "1. https://socialresearchmethods.net/kb/statinf.php\n",
    "1. https://stackoverflow.com/questions/26414913/normalize-columns-of-pandas-data-frame\n",
    "## Markdown\n",
    "1. https://jupyter-notebook.readthedocs.io/en/stable/examples/Notebook/Working%20With%20Markdown%20Cells.html\n",
    "1. https://www.ibm.com/support/knowledgecenter/en/SSGNPV_1.1.3/dsx/markd-jupyter.html\n",
    "1. https://www.datacamp.com/community/tutorials/markdown-in-jupyter-notebook\n",
    "## Plotting\n",
    "1. https://seaborn.pydata.org/generated/seaborn.regplot.html\n",
    "1. https://seaborn.pydata.org/examples/many_pairwise_correlations.html\n",
    "## Keras\n",
    "1. https://keras.io/\n",
    "1. https://towardsdatascience.com/17-rules-of-thumb-for-building-a-neural-network-93356f9930af\n",
    "1. https://machinelearningmastery.com/tutorial-first-neural-network-python-keras/\n",
    "1. https://machinelearningmastery.com/how-to-configure-the-number-of-layers-and-nodes-in-a-neural-network/\n",
    "1. https://machinelearningmastery.com/evaluate-skill-deep-learning-models/\n",
    "1. https://machinelearningmastery.com/rectified-linear-activation-function-for-deep-learning-neural-networks/\n",
    "1. https://machinelearningmastery.com/how-to-choose-loss-functions-when-training-deep-learning-neural-networks/\n",
    "1. https://machinelearningmastery.com/loss-and-loss-functions-for-training-deep-learning-neural-networks/\n",
    "1. https://machinelearningmastery.com/difference-between-a-batch-and-an-epoch/\n",
    "1. https://machinelearningmastery.com/how-to-control-the-speed-and-stability-of-training-neural-networks-with-gradient-descent-batch-size/\n",
    "1. https://machinelearningmastery.com/learning-curves-for-diagnosing-machine-learning-model-performance/\n",
    "## Research \n",
    "1. https://towardsdatascience.com/linear-regression-on-boston-housing-dataset-f409b7e4a155\n",
    "1. https://www.ritchieng.com/machine-learning-project-boston-home-prices/\n",
    "1. http://www.neural.cz/dataset-exploration-boston-house-pricing.html\n",
    "1. [docs/Hedonic%20Housing%20Prices%20and%20the%20Demand%20for%20Clean%20Air1%20.pdf\n",
    "JOURNAL OF ENVIRONMENTAL ECONOMICS AND MANAGEMENT 5, 81-102 (1978)]\n",
    "1. https://docs/Hedonic%20Housing%20Prices%20and%20the%20Demand%20for%20Clean%20Air1%20.pdf\n",
    "www.quora.com/What-is-the-difference-between-a-t-value-and-p-value"
   ]
  },
  {
   "cell_type": "markdown",
   "metadata": {},
   "source": [
    "## About the dataset"
   ]
  },
  {
   "cell_type": "code",
   "execution_count": 28,
   "metadata": {},
   "outputs": [
    {
     "name": "stdout",
     "output_type": "stream",
     "text": [
      ".. _boston_dataset:\n",
      "\n",
      "Boston house prices dataset\n",
      "---------------------------\n",
      "\n",
      "**Data Set Characteristics:**  \n",
      "\n",
      "    :Number of Instances: 506 \n",
      "\n",
      "    :Number of Attributes: 13 numeric/categorical predictive. Median Value (attribute 14) is usually the target.\n",
      "\n",
      "    :Attribute Information (in order):\n",
      "        - CRIM     per capita crime rate by town\n",
      "        - ZN       proportion of residential land zoned for lots over 25,000 sq.ft.\n",
      "        - INDUS    proportion of non-retail business acres per town\n",
      "        - CHAS     Charles River dummy variable (= 1 if tract bounds river; 0 otherwise)\n",
      "        - NOX      nitric oxides concentration (parts per 10 million)\n",
      "        - RM       average number of rooms per dwelling\n",
      "        - AGE      proportion of owner-occupied units built prior to 1940\n",
      "        - DIS      weighted distances to five Boston employment centres\n",
      "        - RAD      index of accessibility to radial highways\n",
      "        - TAX      full-value property-tax rate per $10,000\n",
      "        - PTRATIO  pupil-teacher ratio by town\n",
      "        - B        1000(Bk - 0.63)^2 where Bk is the proportion of blacks by town\n",
      "        - LSTAT    % lower status of the population\n",
      "        - MEDV     Median value of owner-occupied homes in $1000's\n",
      "\n",
      "    :Missing Attribute Values: None\n",
      "\n",
      "    :Creator: Harrison, D. and Rubinfeld, D.L.\n",
      "\n",
      "This is a copy of UCI ML housing dataset.\n",
      "https://archive.ics.uci.edu/ml/machine-learning-databases/housing/\n",
      "\n",
      "\n",
      "This dataset was taken from the StatLib library which is maintained at Carnegie Mellon University.\n",
      "\n",
      "The Boston house-price data of Harrison, D. and Rubinfeld, D.L. 'Hedonic\n",
      "prices and the demand for clean air', J. Environ. Economics & Management,\n",
      "vol.5, 81-102, 1978.   Used in Belsley, Kuh & Welsch, 'Regression diagnostics\n",
      "...', Wiley, 1980.   N.B. Various transformations are used in the table on\n",
      "pages 244-261 of the latter.\n",
      "\n",
      "The Boston house-price data has been used in many machine learning papers that address regression\n",
      "problems.   \n",
      "     \n",
      ".. topic:: References\n",
      "\n",
      "   - Belsley, Kuh & Welsch, 'Regression diagnostics: Identifying Influential Data and Sources of Collinearity', Wiley, 1980. 244-261.\n",
      "   - Quinlan,R. (1993). Combining Instance-Based and Model-Based Learning. In Proceedings on the Tenth International Conference of Machine Learning, 236-243, University of Massachusetts, Amherst. Morgan Kaufmann.\n",
      "\n"
     ]
    }
   ],
   "source": [
    "# This code block is for reference and contains the code to generate information bout the dataset.\n",
    "from sklearn.datasets import load_boston\n",
    "boston = load_boston()\n",
    "\n",
    "# uncomment the lines below to generate the actual output\n",
    "\n",
    "#print(boston.data.shape)\n",
    "print(boston.DESCR) \n",
    "#print(boston.feature_names) \n",
    "#print(boston.filename)\n",
    "#print(boston)"
   ]
  }
 ],
 "metadata": {
  "kernelspec": {
   "display_name": "Python 3",
   "language": "python",
   "name": "python3"
  },
  "language_info": {
   "codemirror_mode": {
    "name": "ipython",
    "version": 3
   },
   "file_extension": ".py",
   "mimetype": "text/x-python",
   "name": "python",
   "nbconvert_exporter": "python",
   "pygments_lexer": "ipython3",
   "version": "3.7.3"
  }
 },
 "nbformat": 4,
 "nbformat_minor": 2
}
