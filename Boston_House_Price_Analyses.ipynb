{
 "cells": [
  {
   "cell_type": "markdown",
   "metadata": {},
   "source": [
    "# Assessment Machine Learning and Statistics"
   ]
  },
  {
   "cell_type": "markdown",
   "metadata": {},
   "source": [
    "Due: November 29th, 2019"
   ]
  },
  {
   "cell_type": "markdown",
   "metadata": {},
   "source": [
    "# (20%) Describe: \n",
    "\n",
    "Create a git repository and make it available online for the lecturer\n",
    "to clone. The repository should contain all your work for this assessment. Within\n",
    "the repository, create a jupyter [6] notebook that uses descriptive statistics and\n",
    "plots to describe the Boston House Prices [1] dataset. This part is worth 20% of\n",
    "your overall mark.\n"
   ]
  },
  {
   "cell_type": "markdown",
   "metadata": {},
   "source": [
    "# (20%) Infer: \n",
    "\n",
    "To the above jupyter notebook, add a section where you use inferential\n",
    "statistics to analyse whether there is a significant difference in median house prices\n",
    "between houses that are along the Charles river and those that aren’t. You should\n",
    "explain and discuss your findings within the notebook. This part is also worth\n",
    "20%.\n"
   ]
  },
  {
   "cell_type": "markdown",
   "metadata": {},
   "source": [
    "# (60%) Predict: \n",
    "\n",
    "Again using the same notebook, use keras [7] to create a neural network\n",
    "that can predict the median house price based on the other variables in the dataset.\n",
    "Page 1 of 3\n",
    "Machine Learning and Statistics Assessment 2019\n",
    "You are free to interpret this as you wish — for example, you may use all the other\n",
    "variables, or select a subset. This part is worth 60%."
   ]
  }
 ],
 "metadata": {
  "kernelspec": {
   "display_name": "Python 3",
   "language": "python",
   "name": "python3"
  },
  "language_info": {
   "codemirror_mode": {
    "name": "ipython",
    "version": 3
   },
   "file_extension": ".py",
   "mimetype": "text/x-python",
   "name": "python",
   "nbconvert_exporter": "python",
   "pygments_lexer": "ipython3",
   "version": "3.7.3"
  }
 },
 "nbformat": 4,
 "nbformat_minor": 2
}
